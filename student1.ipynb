{
 "cells": [
  {
   "cell_type": "markdown",
   "id": "d3fbc15e",
   "metadata": {},
   "source": [
    "### Aviation Safety Analysis: Strategic Aircraft Acquisition Recommendations\n",
    "### Business Understanding\n",
    "Our company is expanding into aviation by purchasing and operating aircraft for commercial and private enterprises. As data scientists, we need to identify the lowest-risk aircraft options and operational strategies to guide this new business venture.\n",
    "\n",
    "### Business Problem: \n",
    "Which aircraft present the lowest risk for our new aviation division, and what operational strategies should we implement to maximize safety?\n",
    "\n",
    "### Key Questions:\n",
    "\n",
    "Which aircraft models have the best safety records?\n",
    "\n",
    "What operational factors (weather, flight phase, purpose) most impact safety?\n",
    "\n",
    "How should we structure our operations to minimize risk?\n",
    "\n",
    "### Data Understanding\n",
    "Let's first explore our dataset to understand its structure and quality."
   ]
  }
 ],
 "metadata": {
  "kernelspec": {
   "display_name": "Python (learn-env)",
   "language": "python",
   "name": "learn-env"
  },
  "language_info": {
   "name": "python",
   "version": "3.8.5"
  }
 },
 "nbformat": 4,
 "nbformat_minor": 5
}
